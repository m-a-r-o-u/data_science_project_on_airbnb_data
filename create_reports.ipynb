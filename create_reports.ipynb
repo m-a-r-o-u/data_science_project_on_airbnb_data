{
 "cells": [
  {
   "cell_type": "markdown",
   "metadata": {},
   "source": [
    "---\n",
    "# Create the Data Reports\n",
    "---\n",
    "\n",
    "**Content**\n",
    "\n",
    "- Data Report: listings.csv\n",
    "\n",
    "- Data Report: features.csv\n",
    "\n",
    "\n",
    "**Central Concepts**\n",
    "\n",
    "- Dashboard\n",
    "\n",
    "---\n",
    "---"
   ]
  },
  {
   "cell_type": "markdown",
   "metadata": {},
   "source": [
    "\n",
    "This script creates data reports\\\n",
    "for listings.csv and for features.csv.\n",
    "\n",
    "Run the cells below one by one\\\n",
    "to create the report for listings.csv individually."
   ]
  },
  {
   "cell_type": "code",
   "execution_count": null,
   "metadata": {},
   "outputs": [],
   "source": [
    "# install a package\n",
    "\n",
    "!pip install -U pandas-profiling[notebook] &> /dev/null;\n",
    "!pip install imblearn &> /dev/null;"
   ]
  },
  {
   "cell_type": "code",
   "execution_count": null,
   "metadata": {},
   "outputs": [],
   "source": [
    "from pathlib import Path\n",
    "import pandas as pd\n",
    "from pandas_profiling import ProfileReport"
   ]
  },
  {
   "cell_type": "code",
   "execution_count": null,
   "metadata": {},
   "outputs": [],
   "source": [
    "# reload ./utils.py\n",
    "\n",
    "import importlib\n",
    "import utils\n",
    "importlib.reload(utils)\n",
    "from utils import get_dichotomous"
   ]
  },
  {
   "cell_type": "code",
   "execution_count": null,
   "metadata": {},
   "outputs": [],
   "source": [
    "# prepare the working directory\n",
    "\n",
    "cwd = Path()\n",
    "\n",
    "opath = cwd / 'data'\n",
    "ppath = cwd / 'plots'\n",
    "\n",
    "opath.mkdir(exist_ok=True)\n",
    "ppath.mkdir(exist_ok=True)\n",
    "\n",
    "ifname_listings = opath / 'listings.csv'\n",
    "ifname_features = opath / 'features.csv'"
   ]
  },
  {
   "cell_type": "code",
   "execution_count": null,
   "metadata": {},
   "outputs": [],
   "source": [
    "# included variables\n",
    "\n",
    "cindex = ['id']\n",
    "\n",
    "cnames = []\n",
    "cnames += [\"space\"]\n",
    "cnames += [\"description\"]\n",
    "cnames += [\"host_since\"]\n",
    "cnames += [\"host_is_superhost\"]\n",
    "cnames += [\"neighbourhood_group_cleansed\"]\n",
    "cnames += [\"latitude\"]\n",
    "cnames += [\"longitude\"]\n",
    "cnames += [\"room_type\"]\n",
    "cnames += [\"bathrooms\"]\n",
    "cnames += [\"bedrooms\"]\n",
    "cnames += [\"beds\"]\n",
    "cnames += [\"amenities\"]\n",
    "cnames += [\"square_feet\"]\n",
    "cnames += [\"price\"]\n",
    "cnames += [\"cleaning_fee\"]\n",
    "cnames += [\"security_deposit\"]\n",
    "cnames += [\"minimum_nights\"]\n",
    "cnames += [\"number_of_reviews\"]\n",
    "cnames += [\"review_scores_rating\"]\n",
    "cnames += [\"review_scores_cleanliness\"]\n",
    "cnames += [\"review_scores_location\"]\n",
    "cnames += [\"instant_bookable\"]\n",
    "cnames += [\"host_id\"]"
   ]
  },
  {
   "cell_type": "markdown",
   "metadata": {},
   "source": [
    "# Data report: listings.csv"
   ]
  },
  {
   "cell_type": "code",
   "execution_count": null,
   "metadata": {},
   "outputs": [],
   "source": [
    "# create report of raw input data\n",
    "\n",
    "ifname = ifname_listings\n",
    "stem = ifname.stem\n",
    "ofname = ppath / f'data_report_{stem}.html'\n",
    "\n",
    "if ifname.is_file():\n",
    "    if not ofname.is_file():\n",
    "        data = pd.read_csv(ifname, usecols=cnames+cindex, index_col=cindex).sort_index(axis=1)\n",
    "        profile = ProfileReport(data, title=f'Report for the {stem.capitalize()}')\n",
    "        profile.to_file(ofname)\n",
    "    else:\n",
    "        print(f'*** File {ofname} already exists.')\n",
    "else:\n",
    "    print(f'*** File {ifname} not found! Download the raw data')"
   ]
  },
  {
   "cell_type": "markdown",
   "metadata": {},
   "source": [
    "# Data report: features.csv\n",
    "\n",
    "- first, run the preprocessing script successfully\n",
    "- for a concise overview: drop all dichotomous variables"
   ]
  },
  {
   "cell_type": "code",
   "execution_count": null,
   "metadata": {},
   "outputs": [],
   "source": [
    "# remove dichotomous variables\n",
    "\n",
    "ifname = ifname_features\n",
    "stem = ifname.stem\n",
    "ofname = ppath / f'data_report_{stem}.html'\n",
    "\n",
    "if ifname.is_file():\n",
    "    data = pd.read_csv(ifname, index_col=cindex).sort_index(axis=1)\n",
    "\n",
    "    left_out_columns = get_dichotomous(data)\n",
    "    data.drop(get_dichotomous(data), axis=1, inplace=True)\n",
    "\n",
    "    profile = ProfileReport(data, title=f'Report for the {stem.capitalize()}')\n",
    "    profile.to_file(ofname)\n",
    "else:\n",
    "    print(f'*** File {ifname} not found! Run the preprocessing script')\n",
    "\n",
    "\n",
    "print('*** The following dichotomous features were left out:')\n",
    "print(left_out_columns)"
   ]
  }
 ],
 "metadata": {
  "kernelspec": {
   "display_name": "Python 3.10.8 ('3o10')",
   "language": "python",
   "name": "python3"
  },
  "language_info": {
   "codemirror_mode": {
    "name": "ipython",
    "version": 3
   },
   "file_extension": ".py",
   "mimetype": "text/x-python",
   "name": "python",
   "nbconvert_exporter": "python",
   "pygments_lexer": "ipython3",
   "version": "3.10.8"
  },
  "orig_nbformat": 4,
  "vscode": {
   "interpreter": {
    "hash": "24bd5b2c4284f955ab7628ddca6a5f285d231065025c4cec3682ee9df201cb6d"
   }
  }
 },
 "nbformat": 4,
 "nbformat_minor": 2
}
