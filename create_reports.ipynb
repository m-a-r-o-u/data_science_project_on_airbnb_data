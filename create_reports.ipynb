{
 "cells": [
  {
   "cell_type": "markdown",
   "metadata": {},
   "source": [
    "# Create the Data Reports\n",
    "\n",
    "\n",
    "Content\n",
    "\n",
    "- Data Report: listings.csv\n",
    "\n",
    "- Data Report: features.csv\n",
    "\n",
    "\n",
    "Central Concepts:\n",
    "\n",
    "- Dashboard\n",
    "\n",
    "\n",
    "ToDo:\n",
    "\n",
    "- ...\n"
   ]
  },
  {
   "cell_type": "markdown",
   "metadata": {},
   "source": [
    "\n",
    "With this script you can create data reports for\\\n",
    "listings.csv and features.csv if\\\n",
    "the preprocessing.ipynb skript\\\n",
    "ran sucessfully.\n",
    "\n",
    "Otherwise,\\\n",
    "you can run the cells below one by one\\\n",
    "and create the report for listings.csv individually."
   ]
  },
  {
   "cell_type": "code",
   "execution_count": 1,
   "metadata": {},
   "outputs": [],
   "source": [
    "# install a package\n",
    "# install instructions for cartopy https://scitools.org.uk/cartopy/docs/latest/installing.html\n",
    "\n",
    "!pip install -U pandas-profiling[notebook] &> /dev/null;\n",
    "!pip install imblearn &> /dev/null;"
   ]
  },
  {
   "cell_type": "code",
   "execution_count": 2,
   "metadata": {},
   "outputs": [],
   "source": [
    "from pathlib import Path\n",
    "import pandas as pd\n",
    "from pandas_profiling import ProfileReport"
   ]
  },
  {
   "cell_type": "code",
   "execution_count": 3,
   "metadata": {},
   "outputs": [],
   "source": [
    "# reload ./utils.py\n",
    "\n",
    "import importlib\n",
    "import utils\n",
    "importlib.reload(utils)\n",
    "from utils import get_dichotomous"
   ]
  },
  {
   "cell_type": "code",
   "execution_count": 4,
   "metadata": {},
   "outputs": [],
   "source": [
    "# prepare the working directory\n",
    "\n",
    "cwd = Path()\n",
    "\n",
    "opath = cwd / 'data'\n",
    "ppath = cwd / 'plots'\n",
    "\n",
    "opath.mkdir(exist_ok=True)\n",
    "ppath.mkdir(exist_ok=True)\n",
    "\n",
    "ifname_listings = opath / 'listings.csv'\n",
    "ifname_features = opath / 'features.csv'"
   ]
  },
  {
   "cell_type": "code",
   "execution_count": 5,
   "metadata": {},
   "outputs": [],
   "source": [
    "# included variables\n",
    "\n",
    "cindex = ['id']\n",
    "\n",
    "cnames = []\n",
    "cnames += [\"space\"]\n",
    "cnames += [\"description\"]\n",
    "cnames += [\"host_since\"]\n",
    "cnames += [\"host_is_superhost\"]\n",
    "cnames += [\"neighbourhood_group_cleansed\"]\n",
    "cnames += [\"latitude\"]\n",
    "cnames += [\"longitude\"]\n",
    "cnames += [\"room_type\"]\n",
    "cnames += [\"bathrooms\"]\n",
    "cnames += [\"bedrooms\"]\n",
    "cnames += [\"beds\"]\n",
    "cnames += [\"amenities\"]\n",
    "cnames += [\"square_feet\"]\n",
    "cnames += [\"price\"]\n",
    "cnames += [\"cleaning_fee\"]\n",
    "cnames += [\"security_deposit\"]\n",
    "cnames += [\"minimum_nights\"]\n",
    "cnames += [\"number_of_reviews\"]\n",
    "cnames += [\"review_scores_rating\"]\n",
    "cnames += [\"review_scores_cleanliness\"]\n",
    "cnames += [\"review_scores_location\"]\n",
    "cnames += [\"instant_bookable\"]\n",
    "cnames += [\"host_id\"]"
   ]
  },
  {
   "cell_type": "markdown",
   "metadata": {},
   "source": [
    "# Data report: listings.csv"
   ]
  },
  {
   "cell_type": "code",
   "execution_count": 6,
   "metadata": {},
   "outputs": [
    {
     "data": {
      "application/vnd.jupyter.widget-view+json": {
       "model_id": "8a6cb2a6273342e0a37ff1131ebc72e5",
       "version_major": 2,
       "version_minor": 0
      },
      "text/plain": [
       "Summarize dataset:   0%|          | 0/5 [00:00<?, ?it/s]"
      ]
     },
     "metadata": {},
     "output_type": "display_data"
    },
    {
     "data": {
      "application/vnd.jupyter.widget-view+json": {
       "model_id": "2ddd32d7d93047c49df62b4afd6ab938",
       "version_major": 2,
       "version_minor": 0
      },
      "text/plain": [
       "Generate report structure:   0%|          | 0/1 [00:00<?, ?it/s]"
      ]
     },
     "metadata": {},
     "output_type": "display_data"
    },
    {
     "data": {
      "application/vnd.jupyter.widget-view+json": {
       "model_id": "12a68addf48a4347a575a94099dc378a",
       "version_major": 2,
       "version_minor": 0
      },
      "text/plain": [
       "Render HTML:   0%|          | 0/1 [00:00<?, ?it/s]"
      ]
     },
     "metadata": {},
     "output_type": "display_data"
    },
    {
     "data": {
      "application/vnd.jupyter.widget-view+json": {
       "model_id": "933033a124ea49df904fd3b5cee8d117",
       "version_major": 2,
       "version_minor": 0
      },
      "text/plain": [
       "Export report to file:   0%|          | 0/1 [00:00<?, ?it/s]"
      ]
     },
     "metadata": {},
     "output_type": "display_data"
    }
   ],
   "source": [
    "# create report of raw input data\n",
    "\n",
    "ifname = ifname_listings\n",
    "stem = ifname.stem\n",
    "ofname = ppath / f'data_report_{stem}.html'\n",
    "\n",
    "data = pd.read_csv(ifname, usecols=cnames+cindex, index_col=cindex).sort_index(axis=1)\n",
    "\n",
    "profile = ProfileReport(data, title=f'Report for the {stem.capitalize()}')\n",
    "profile.to_file(ofname)"
   ]
  },
  {
   "cell_type": "markdown",
   "metadata": {},
   "source": [
    "# Data report: features.csv\n",
    "\n",
    "- first, run the preprocessing script successfully\n",
    "- for a concise overview: drop all dichotomous variables"
   ]
  },
  {
   "cell_type": "code",
   "execution_count": 7,
   "metadata": {},
   "outputs": [
    {
     "data": {
      "application/vnd.jupyter.widget-view+json": {
       "model_id": "f786a55700f948c1b2c7fe31c8761e8d",
       "version_major": 2,
       "version_minor": 0
      },
      "text/plain": [
       "Summarize dataset:   0%|          | 0/5 [00:00<?, ?it/s]"
      ]
     },
     "metadata": {},
     "output_type": "display_data"
    },
    {
     "data": {
      "application/vnd.jupyter.widget-view+json": {
       "model_id": "238c18cea4bc49b297b1f56a072b27c6",
       "version_major": 2,
       "version_minor": 0
      },
      "text/plain": [
       "Generate report structure:   0%|          | 0/1 [00:00<?, ?it/s]"
      ]
     },
     "metadata": {},
     "output_type": "display_data"
    },
    {
     "data": {
      "application/vnd.jupyter.widget-view+json": {
       "model_id": "df8458f52db1429c86039f55b15a0f1d",
       "version_major": 2,
       "version_minor": 0
      },
      "text/plain": [
       "Render HTML:   0%|          | 0/1 [00:00<?, ?it/s]"
      ]
     },
     "metadata": {},
     "output_type": "display_data"
    },
    {
     "data": {
      "application/vnd.jupyter.widget-view+json": {
       "model_id": "55f01f189b9f4ef78003b007ae043477",
       "version_major": 2,
       "version_minor": 0
      },
      "text/plain": [
       "Export report to file:   0%|          | 0/1 [00:00<?, ?it/s]"
      ]
     },
     "metadata": {},
     "output_type": "display_data"
    }
   ],
   "source": [
    "# remove dichotomous variables\n",
    "\n",
    "ifname = ifname_features\n",
    "stem = ifname.stem\n",
    "ofname = ppath / f'data_report_{stem}.html'\n",
    "\n",
    "data = pd.read_csv(ifname, index_col=cindex).sort_index(axis=1)\n",
    "data.drop(get_dichotomous(data), axis=1, inplace=True)\n",
    "\n",
    "profile = ProfileReport(data, title=f'Report for the {stem.capitalize()}')\n",
    "profile.to_file(ofname)"
   ]
  }
 ],
 "metadata": {
  "kernelspec": {
   "display_name": "Python 3.10.8 ('3o10')",
   "language": "python",
   "name": "python3"
  },
  "language_info": {
   "codemirror_mode": {
    "name": "ipython",
    "version": 3
   },
   "file_extension": ".py",
   "mimetype": "text/x-python",
   "name": "python",
   "nbconvert_exporter": "python",
   "pygments_lexer": "ipython3",
   "version": "3.10.8"
  },
  "orig_nbformat": 4,
  "vscode": {
   "interpreter": {
    "hash": "24bd5b2c4284f955ab7628ddca6a5f285d231065025c4cec3682ee9df201cb6d"
   }
  }
 },
 "nbformat": 4,
 "nbformat_minor": 2
}
