{
 "cells": [
  {
   "cell_type": "markdown",
   "metadata": {},
   "source": [
    "# Model Evaluation and Selection\n",
    "\n",
    "Content:\n",
    "\n",
    "- Regression\n",
    "\n",
    "- Classification\n",
    "\n",
    "- Classification with SMOTE\n",
    "\n",
    "\n",
    "Central Concepts:\n",
    "\n",
    "- ...\n",
    "\n",
    "ToDo:\n",
    "\n",
    "- Add automl lib\n",
    "\n",
    "- Add hyperparameter-tuning lib"
   ]
  },
  {
   "cell_type": "markdown",
   "metadata": {},
   "source": [
    "\n",
    "---\n",
    "Model Evaluation and Selection\n",
    "- bias variance trade off / over fitting - under fitting\n",
    "- the curse of complexity\n",
    "- K-fold Cross Validation\n",
    "- Ranking \n",
    "- ROC / AUC\n",
    "- Cumulative Percentile Hits\n",
    "---"
   ]
  },
  {
   "cell_type": "code",
   "execution_count": null,
   "metadata": {},
   "outputs": [],
   "source": [
    "# matplotlib color settings\n",
    "\n",
    "dark_plot_theme = True\n",
    "\n",
    "if dark_plot_theme:\n",
    "    plt.style.use('dark_background')"
   ]
  },
  {
   "cell_type": "code",
   "execution_count": null,
   "metadata": {},
   "outputs": [],
   "source": [
    "# pandas display settings\n",
    "\n",
    "pd.set_option('display.max_rows', 200)\n",
    "pd.set_option('display.max_columns', None)\n",
    "pd.set_option('display.max_colwidth', 100)"
   ]
  },
  {
   "cell_type": "code",
   "execution_count": null,
   "metadata": {},
   "outputs": [],
   "source": [
    "# load general dependencies\n",
    "from collections import Counter\n",
    "import numpy as np\n",
    "import os\n",
    "import pandas as pd\n",
    "from pathlib import Path\n",
    "import re\n",
    "import requests\n",
    "\n",
    "\n",
    "# visualization\n",
    "import matplotlib.pyplot as plt\n",
    "import seaborn as sns\n",
    "\n",
    "# data preparation\n",
    "from imblearn.over_sampling import SMOTE\n",
    "from sklearn.model_selection import train_test_split\n",
    "\n",
    "# feature selection\n",
    "from sklearn.feature_selection import SelectKBest\n",
    "from sklearn.feature_selection import f_regression\n",
    "from sklearn.feature_selection import f_classif\n",
    "\n",
    "# regression metrics\n",
    "from sklearn.metrics import mean_squared_error\n",
    "from sklearn.metrics import r2_score\n",
    "from sklearn.metrics import explained_variance_score\n",
    "from sklearn.metrics import d2_tweedie_score\n",
    "\n",
    "# clustering metrics\n",
    "from sklearn.metrics import accuracy_score\n",
    "from sklearn.metrics import f1_score\n",
    "from sklearn.metrics import precision_score\n",
    "from sklearn.metrics import recall_score\n",
    "\n",
    "# regression models\n",
    "from sklearn.linear_model import LinearRegression\n",
    "from sklearn.tree import DecisionTreeRegressor\n",
    "from sklearn.ensemble import RandomForestRegressor\n",
    "from sklearn.ensemble import AdaBoostRegressor\n",
    "from sklearn.ensemble import GradientBoostingRegressor\n",
    "\n",
    "# classification models\n",
    "from sklearn.linear_model import LogisticRegression\n",
    "from sklearn.tree import DecisionTreeClassifier\n",
    "from sklearn.ensemble import RandomForestClassifier\n",
    "from sklearn.ensemble import AdaBoostClassifier\n",
    "from sklearn.ensemble import GradientBoostingClassifier\n"
   ]
  },
  {
   "cell_type": "code",
   "execution_count": null,
   "metadata": {},
   "outputs": [],
   "source": [
    "# notebook display settings\n",
    "\n",
    "pd.set_option('display.max_rows', 200)\n",
    "pd.set_option('display.max_columns', None)\n",
    "pd.set_option('display.max_colwidth', 100)\n"
   ]
  },
  {
   "cell_type": "code",
   "execution_count": null,
   "metadata": {},
   "outputs": [],
   "source": [
    "# prepare the working directory\n",
    "\n",
    "cwd = Path()\n",
    "\n",
    "ipath = cwd / 'data'\n",
    "\n",
    "ipath.mkdir(exist_ok=True)\n",
    "\n",
    "ifile = ipath / 'features.csv'\n"
   ]
  },
  {
   "cell_type": "markdown",
   "metadata": {},
   "source": [
    "# Load the Dataset"
   ]
  },
  {
   "cell_type": "code",
   "execution_count": null,
   "metadata": {},
   "outputs": [],
   "source": [
    "# import raw dataset\n",
    "\n",
    "cindex = ['id']\n",
    "\n",
    "data = pd.read_csv(ifile, index_col=cindex).sort_index(axis=1)"
   ]
  },
  {
   "cell_type": "markdown",
   "metadata": {},
   "source": [
    "---\n",
    "---\n",
    "---"
   ]
  },
  {
   "cell_type": "markdown",
   "metadata": {},
   "source": [
    "# Regression\n",
    "\n",
    "- use the log transform\n",
    "- calculate withdata z_score\n",
    "- feature selection\n",
    "- prepare for dataliers\n",
    "- log transformation - reverse"
   ]
  },
  {
   "cell_type": "markdown",
   "metadata": {},
   "source": [
    "## Feature Selection"
   ]
  },
  {
   "cell_type": "code",
   "execution_count": null,
   "metadata": {},
   "outputs": [],
   "source": [
    "target = 'price'\n",
    "x = np.log(data.drop(target, axis=1).select_dtypes(include=np.number) + 1)\n",
    "y = np.log(data[target] + 1)\n",
    "\n",
    "selector = SelectKBest(f_regression, k=3)\n",
    "features_selected = selector.fit_transform(x, y)"
   ]
  },
  {
   "cell_type": "code",
   "execution_count": null,
   "metadata": {},
   "outputs": [],
   "source": [
    "selection_dict = {}\n",
    "selection_dict['score'] = [round(s, 3) for s in selector.scores_]\n",
    "selection_dict['name'] = selector.feature_names_in_\n",
    "selection_dict['p-value'] = selector.pvalues_\n",
    "\n",
    "selection = pd.DataFrame(selection_dict)\n",
    "display(selection.sort_values('score', ascending=False).head(10))"
   ]
  },
  {
   "cell_type": "code",
   "execution_count": null,
   "metadata": {},
   "outputs": [],
   "source": [
    "# prepare data\n",
    "\n",
    "# set the number of used features\n",
    "n = 3\n",
    "vs = selection.sort_values('score', ascending=False).head(n)['name'].values\n",
    "\n",
    "# log transformation?\n",
    "x = np.log(data[vs] + 1)\n",
    "y = np.log(data[target] + 1)\n",
    "\n",
    "xtrain, xtest, ytrain, ytest = train_test_split(x, y, test_size=0.2, random_state=42)"
   ]
  },
  {
   "cell_type": "markdown",
   "metadata": {},
   "source": [
    "## Model Application"
   ]
  },
  {
   "cell_type": "code",
   "execution_count": null,
   "metadata": {},
   "outputs": [],
   "source": [
    "# regression algorithms and metrics\n",
    "rs = 42\n",
    "\n",
    "regs = {}\n",
    "regs['LinearRegression'] = LinearRegression()\n",
    "regs['DecisionTreeRegressor'] = DecisionTreeRegressor(random_state=rs)\n",
    "regs['RandomForestRegressor'] = RandomForestRegressor(random_state=rs)\n",
    "regs['AdaBoostRegressor'] = AdaBoostRegressor(random_state=rs)\n",
    "regs['GradientBoostingRegressor'] = GradientBoostingRegressor(random_state=rs)\n",
    "\n",
    "rmetrics = {}\n",
    "rmetrics['r2_score'] = r2_score\n",
    "rmetrics['mean_squared_error'] = mean_squared_error\n",
    "rmetrics['explained_variance_score'] = explained_variance_score\n",
    "rmetrics['d2_tweedie_score'] = d2_tweedie_score"
   ]
  },
  {
   "cell_type": "code",
   "execution_count": null,
   "metadata": {},
   "outputs": [],
   "source": [
    "# regression calculation\n",
    "\n",
    "regression_data = {}\n",
    "for cname, reg in regs.items():\n",
    "    reg.fit(xtrain, ytrain)\n",
    "    ypred = reg.predict(xtest)\n",
    "\n",
    "    classifier_data = {}\n",
    "    for mname, metric in rmetrics.items():\n",
    "        classifier_data[mname] = metric(ytest, ypred)\n",
    "\n",
    "    regression_data[cname] = classifier_data\n",
    "\n",
    "regression_results = pd.DataFrame(regression_data)\n",
    "display(regression_results.T.sort_values('r2_score', ascending=False))\n"
   ]
  },
  {
   "cell_type": "markdown",
   "metadata": {},
   "source": [
    "---"
   ]
  },
  {
   "cell_type": "markdown",
   "metadata": {},
   "source": [
    "# Classification"
   ]
  },
  {
   "cell_type": "markdown",
   "metadata": {},
   "source": [
    "- Logistic Regression\n",
    "- Decision Tree\n",
    "- Random Forest\n",
    "- Ada Boost Tree\n",
    "- Gradient Boosting Tree"
   ]
  },
  {
   "cell_type": "markdown",
   "metadata": {},
   "source": [
    "- define the classification problem\n",
    "- airbnb more expensive then mean\n",
    "- short excurse\n",
    "- show the ROC-Curve AUC-Score\n",
    "- validate on test set\n",
    "- use smote"
   ]
  },
  {
   "cell_type": "code",
   "execution_count": null,
   "metadata": {},
   "outputs": [],
   "source": [
    "def get_classification_target(target):\n",
    "    return (target > np.percentile(target, 75)).astype(int)"
   ]
  },
  {
   "cell_type": "markdown",
   "metadata": {},
   "source": [
    "## Feature Selection"
   ]
  },
  {
   "cell_type": "code",
   "execution_count": null,
   "metadata": {},
   "outputs": [],
   "source": [
    "target = 'price'\n",
    "x = np.log(data.drop(target, axis=1).select_dtypes(include=np.number) + 1)\n",
    "y = np.log(get_classification_target(data[target]) + 1)\n",
    "\n",
    "selector = SelectKBest(f_classif, k=3)\n",
    "features_selected = selector.fit_transform(x, y)"
   ]
  },
  {
   "cell_type": "code",
   "execution_count": null,
   "metadata": {},
   "outputs": [],
   "source": [
    "selection_dict = {}\n",
    "selection_dict['score'] = [round(s, 3) for s in selector.scores_]\n",
    "selection_dict['name'] = selector.feature_names_in_\n",
    "selection_dict['p-value'] = selector.pvalues_\n",
    "\n",
    "selection = pd.DataFrame(selection_dict)\n",
    "display(selection.sort_values('score', ascending=False).head(10))"
   ]
  },
  {
   "cell_type": "code",
   "execution_count": null,
   "metadata": {},
   "outputs": [],
   "source": [
    "# prepare data\n",
    "\n",
    "# set the number of used features\n",
    "n = 5\n",
    "vs = selection.sort_values('score', ascending=False).head(n)['name'].values\n",
    "\n",
    "x = data[vs]\n",
    "y = get_classification_target(data[target])\n",
    "\n",
    "xtrain, xtest, ytrain, ytest = train_test_split(x, y, test_size=0.2, random_state=42)\n"
   ]
  },
  {
   "cell_type": "markdown",
   "metadata": {},
   "source": [
    "## Model Application"
   ]
  },
  {
   "cell_type": "code",
   "execution_count": null,
   "metadata": {},
   "outputs": [],
   "source": [
    "# classification algorithms and metrics\n",
    "rs = 42\n",
    "\n",
    "classifiers = {}\n",
    "classifiers['LogisticRegression'] = LogisticRegression(random_state=rs)\n",
    "classifiers['DecisionTreeClassifier'] = DecisionTreeClassifier(random_state=rs)\n",
    "classifiers['RandomForestClassifier'] = RandomForestClassifier(random_state=rs)\n",
    "classifiers['AdaBoostClassifier'] = AdaBoostClassifier(random_state=rs)\n",
    "classifiers['GradientBoostingClassifier'] = GradientBoostingClassifier(random_state=rs)\n",
    "\n",
    "cmetrics = {}\n",
    "cmetrics['accuracy_score'] = accuracy_score\n",
    "cmetrics['f1_score'] = f1_score\n",
    "cmetrics['precision_score'] = precision_score\n",
    "cmetrics['recall_score'] = recall_score"
   ]
  },
  {
   "cell_type": "code",
   "execution_count": null,
   "metadata": {},
   "outputs": [],
   "source": [
    "# classification\n",
    "\n",
    "classification_data = {}\n",
    "for cname, reg in classifiers.items():\n",
    "    reg.fit(xtrain, ytrain)\n",
    "    ypred = reg.predict(xtest)\n",
    "    \n",
    "    classifier_data = {}\n",
    "    for mname, metric in cmetrics.items():\n",
    "        classifier_data[mname] = metric(ytest, ypred)\n",
    "\n",
    "    classification_data[cname] = classifier_data\n",
    "\n",
    "test_results = pd.DataFrame(classification_data)\n",
    "display(test_results.T.sort_values('f1_score', ascending=False))\n"
   ]
  },
  {
   "cell_type": "markdown",
   "metadata": {},
   "source": [
    "---"
   ]
  },
  {
   "cell_type": "markdown",
   "metadata": {},
   "source": [
    "## Classification with SMOTE\n",
    "Synthetic Minority Oversampling Technique"
   ]
  },
  {
   "cell_type": "code",
   "execution_count": null,
   "metadata": {},
   "outputs": [],
   "source": [
    "# prepare data with SMOTE\n",
    "\n",
    "_, xtest, _, ytest = train_test_split(x, y, test_size=0.2, random_state=42)\n",
    "\n",
    "print('Original dataset shape %s' % Counter(y))\n",
    "\n",
    "sm = SMOTE(random_state=42)\n",
    "\n",
    "x_smote, y_smote = sm.fit_resample(x, y)\n",
    "\n",
    "xtrain, _, ytrain, _ = train_test_split(x_smote, y_smote, test_size=0.2, random_state=42)\n",
    "\n",
    "\n",
    "print('Resampled dataset shape %s' % Counter(y_smote))"
   ]
  },
  {
   "cell_type": "code",
   "execution_count": null,
   "metadata": {},
   "outputs": [],
   "source": [
    "# classification with smote\n",
    "\n",
    "classification_data = {}\n",
    "for cname, reg in classifiers.items():\n",
    "    reg.fit(xtrain, ytrain)\n",
    "    ypred = reg.predict(xtest)\n",
    "    \n",
    "    classifier_data = {}\n",
    "    for mname, metric in cmetrics.items():\n",
    "        classifier_data[mname] = metric(ytest, ypred)\n",
    "\n",
    "    classification_data[cname] = classifier_data\n",
    "\n",
    "test_results = pd.DataFrame(classification_data)\n",
    "display(test_results.T.sort_values('f1_score', ascending=False))"
   ]
  },
  {
   "cell_type": "markdown",
   "metadata": {},
   "source": [
    "---\n",
    "---\n",
    "---"
   ]
  }
 ],
 "metadata": {
  "kernelspec": {
   "display_name": "Python 3.10.8 ('3o10')",
   "language": "python",
   "name": "python3"
  },
  "language_info": {
   "codemirror_mode": {
    "name": "ipython",
    "version": 3
   },
   "file_extension": ".py",
   "mimetype": "text/x-python",
   "name": "python",
   "nbconvert_exporter": "python",
   "pygments_lexer": "ipython3",
   "version": "3.10.8"
  },
  "toc": {
   "base_numbering": 1,
   "nav_menu": {},
   "number_sections": true,
   "sideBar": true,
   "skip_h1_title": false,
   "title_cell": "Table of Contents",
   "title_sidebar": "Contents",
   "toc_cell": false,
   "toc_position": {},
   "toc_section_display": true,
   "toc_window_display": false
  },
  "varInspector": {
   "cols": {
    "lenName": 16,
    "lenType": 16,
    "lenVar": 40
   },
   "kernels_config": {
    "python": {
     "delete_cmd_postfix": "",
     "delete_cmd_prefix": "del ",
     "library": "var_list.py",
     "varRefreshCmd": "print(var_dic_list())"
    },
    "r": {
     "delete_cmd_postfix": ") ",
     "delete_cmd_prefix": "rm(",
     "library": "var_list.r",
     "varRefreshCmd": "cat(var_dic_list()) "
    }
   },
   "types_to_exclude": [
    "module",
    "function",
    "builtin_function_or_method",
    "instance",
    "_Feature"
   ],
   "window_display": false
  },
  "vscode": {
   "interpreter": {
    "hash": "24bd5b2c4284f955ab7628ddca6a5f285d231065025c4cec3682ee9df201cb6d"
   }
  }
 },
 "nbformat": 4,
 "nbformat_minor": 2
}
